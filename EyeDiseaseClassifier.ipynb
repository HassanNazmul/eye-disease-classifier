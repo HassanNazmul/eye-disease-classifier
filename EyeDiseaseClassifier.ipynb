{
 "cells": [],
 "metadata": {
  "kernelspec": {
   "display_name": "eye-disease-classifier",
   "language": "python",
   "name": "python3"
  },
  "language_info": {
   "name": "python",
   "version": "3.12.9"
  }
 },
 "nbformat": 4,
 "nbformat_minor": 2
}
